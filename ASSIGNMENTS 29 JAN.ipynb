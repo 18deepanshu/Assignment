{
 "cells": [
  {
   "cell_type": "code",
   "execution_count": null,
   "id": "d08f51f5-38a2-46e6-807b-ab86c31e2ec0",
   "metadata": {},
   "outputs": [],
   "source": [
    "1.Design by Guido Van Rossum and Developed by Python Software Foundation."
   ]
  },
  {
   "cell_type": "code",
   "execution_count": null,
   "id": "31911a94-eb78-4f55-b629-d1aee19cc702",
   "metadata": {},
   "outputs": [],
   "source": [
    "2.Python is an interpreted programming language,supporting object-oriented,structured, and functional programming."
   ]
  },
  {
   "cell_type": "code",
   "execution_count": null,
   "id": "7da78576-e3c5-4b5f-b5bd-f6bd83635d3e",
   "metadata": {},
   "outputs": [],
   "source": [
    "3.Yes,Python is case sensitive language."
   ]
  },
  {
   "cell_type": "code",
   "execution_count": null,
   "id": "3dad98e1-fc25-49ec-b5d5-77eed5d72d0e",
   "metadata": {},
   "outputs": [],
   "source": [
    "4.  .py extension"
   ]
  },
  {
   "cell_type": "code",
   "execution_count": null,
   "id": "e99537da-8662-4d0d-8ef1-192d64a4a01f",
   "metadata": {},
   "outputs": [],
   "source": [
    "5. Python code is interpreted."
   ]
  },
  {
   "cell_type": "code",
   "execution_count": null,
   "id": "0c2ecac1-69bc-4531-aacf-6d29e59ad2d1",
   "metadata": {},
   "outputs": [],
   "source": [
    "6.Indentation,statements,comments"
   ]
  },
  {
   "cell_type": "code",
   "execution_count": null,
   "id": "25b3f89c-3ba3-474b-99f2-64cacc05373e",
   "metadata": {},
   "outputs": [],
   "source": [
    "7. \"#\" character used in python to make a single line comment."
   ]
  },
  {
   "cell_type": "code",
   "execution_count": null,
   "id": "32f04c58-6b59-44ad-a0cc-e12ef86ac0ec",
   "metadata": {},
   "outputs": [],
   "source": [
    "8. The function (sys.version ) can help us to find the version of python that we are currently working on."
   ]
  },
  {
   "cell_type": "code",
   "execution_count": null,
   "id": "f46cb5d7-5f3f-421f-99fa-e8b37a4cec94",
   "metadata": {},
   "outputs": [],
   "source": [
    "9.Python supports the creation of anonymous function at runtime,using a construct called Lambda."
   ]
  },
  {
   "cell_type": "code",
   "execution_count": null,
   "id": "65d11cce-cb2b-4abd-b896-92ef7fc492c3",
   "metadata": {},
   "outputs": [],
   "source": [
    "10.pip-preferred installer program."
   ]
  },
  {
   "cell_type": "code",
   "execution_count": null,
   "id": "db17c0ea-3fa5-4579-9a37-811a6c1d24f3",
   "metadata": {},
   "outputs": [],
   "source": [
    "11. Built-in function are -print(),abs(),round(),sorted() etc."
   ]
  },
  {
   "cell_type": "code",
   "execution_count": null,
   "id": "ae5b4065-27dc-421d-a1c8-9246ea11c68b",
   "metadata": {},
   "outputs": [],
   "source": [
    "12. Not define (it can be of any number)."
   ]
  },
  {
   "cell_type": "code",
   "execution_count": null,
   "id": "f284cdef-c4bd-4e07-9cc7-46acfde5f9fc",
   "metadata": {},
   "outputs": [],
   "source": [
    "13.Benefits-1.largely used by professional programmers and developers including web development and machine learing\n",
    "            2.extensive libraries\n",
    "            3.write less,do more\n",
    "            4.wide range of use cases."
   ]
  },
  {
   "cell_type": "code",
   "execution_count": null,
   "id": "dee554d6-7565-41c0-a898-6ad61029c87c",
   "metadata": {},
   "outputs": [],
   "source": [
    "14.Memory management in python involves a private heap containing all Python objects and data structures.The management of this private heap is ensured internally by the Python memory manager."
   ]
  },
  {
   "cell_type": "code",
   "execution_count": null,
   "id": "7a238849-62fb-43d0-8cad-784c7f34810f",
   "metadata": {},
   "outputs": [],
   "source": [
    "15. 1.Right-clicking This PC and going to Properties.\n",
    "\n",
    "    2.Clicking on the Advanced system settings in the menu on the left.\n",
    "\n",
    "    3.Clicking on the Environment Variables button o​n the bottom right.\n",
    "\n",
    "    4.In the System variables section, selecting the Path variable and clicking on Edit. The next screen will show all the directories that are currently a part of the PATH variable.\n",
    "\n",
    "    5.Clicking on New and entering Python’s install directory."
   ]
  },
  {
   "cell_type": "code",
   "execution_count": null,
   "id": "8eeba71f-a1de-4545-81e6-336dcc953370",
   "metadata": {},
   "outputs": [],
   "source": [
    "16.Yes, indentation is required."
   ]
  }
 ],
 "metadata": {
  "kernelspec": {
   "display_name": "Python 3 (ipykernel)",
   "language": "python",
   "name": "python3"
  },
  "language_info": {
   "codemirror_mode": {
    "name": "ipython",
    "version": 3
   },
   "file_extension": ".py",
   "mimetype": "text/x-python",
   "name": "python",
   "nbconvert_exporter": "python",
   "pygments_lexer": "ipython3",
   "version": "3.10.8"
  }
 },
 "nbformat": 4,
 "nbformat_minor": 5
}
